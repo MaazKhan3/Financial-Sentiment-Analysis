{
  "nbformat": 4,
  "nbformat_minor": 0,
  "metadata": {
    "colab": {
      "provenance": []
    },
    "kernelspec": {
      "name": "python3",
      "display_name": "Python 3"
    },
    "language_info": {
      "name": "python"
    }
  },
  "cells": [
    {
      "cell_type": "code",
      "source": [
        "import requests\n",
        "\n",
        "url = \"https://6a55-34-168-31-17.ngrok-free.app\"  # Verify the URL\n",
        "data = {\"headline\": \"The company announced record profits this quarter.\"}\n",
        "\n",
        "try:\n",
        "    response = requests.post(url, json=data)\n",
        "    response.raise_for_status()  # Raise HTTPError for bad responses (4xx or 5xx)\n",
        "    print(\"Response:\", response.json())\n",
        "except requests.exceptions.RequestException as e:\n",
        "    print(\"Error:\", e)"
      ],
      "metadata": {
        "id": "GNwLpumarO3d"
      },
      "execution_count": null,
      "outputs": []
    }
  ]
}